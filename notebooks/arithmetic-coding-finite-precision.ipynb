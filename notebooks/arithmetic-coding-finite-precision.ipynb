{
 "cells": [
  {
   "cell_type": "code",
   "execution_count": 426,
   "metadata": {},
   "outputs": [],
   "source": [
    "import random\n",
    "\n",
    "# random.seed(0)\n",
    "\n",
    "precision = 8\n",
    "rs = [\n",
    "    24,\n",
    "    25,\n",
    "    25,\n",
    "    26,\n",
    "]\n",
    "eof_symbol = 0\n",
    "example_string = [\n",
    "    *random.choices(\n",
    "        [r for r in range(len(rs)) if r != eof_symbol],\n",
    "        k=100,\n",
    "    ),\n",
    "    eof_symbol,\n",
    "]\n",
    "\n",
    "one_whole = 2**precision\n",
    "one_half = one_whole // 2\n",
    "one_quarter = one_whole // 4\n",
    "three_quarters = 3 * one_quarter\n",
    "r_total = sum(rs)\n",
    "\n",
    "assert rs\n",
    "assert all(r > 0 for r in rs)\n",
    "assert 0 <= eof_symbol < len(rs)\n",
    "assert example_string\n",
    "assert all([0 <= current_char < len(rs) for current_char in example_string])\n",
    "# assert all(current_char != eof_symbol for current_char in example_string[:-1])\n",
    "# assert example_string[-1] == eof_symbol"
   ]
  },
  {
   "cell_type": "code",
   "execution_count": 427,
   "metadata": {},
   "outputs": [],
   "source": [
    "cs = []\n",
    "for i in range(len(rs)):\n",
    "    cs.append(sum(rs[:i]))\n",
    "\n",
    "assert cs[0] == 0"
   ]
  },
  {
   "cell_type": "code",
   "execution_count": 428,
   "metadata": {},
   "outputs": [],
   "source": [
    "ds = cs[1:] + [r_total]\n",
    "\n",
    "assert ds[-1] == r_total"
   ]
  },
  {
   "cell_type": "code",
   "execution_count": 429,
   "metadata": {},
   "outputs": [],
   "source": [
    "a = 0\n",
    "b = one_whole\n",
    "s = 0\n",
    "z = []\n",
    "for current_char in example_string:\n",
    "    w = b - a\n",
    "    b = a + w * ds[current_char] // r_total\n",
    "    a = a + w * cs[current_char] // r_total\n",
    "    while b < one_half or a > one_half:\n",
    "        if b < one_half:\n",
    "            z += [False] + [True] * s\n",
    "            a *= 2\n",
    "            b *= 2\n",
    "        else:\n",
    "            z += [True] + [False] * s\n",
    "            a = 2 * (a - one_half)\n",
    "            b = 2 * (b - one_half)\n",
    "        s = 0\n",
    "    while one_quarter < a and b < three_quarters:\n",
    "        a = 2 * (a - one_quarter)\n",
    "        b = 2 * (b - one_quarter)\n",
    "        s += 1\n",
    "s += 1\n",
    "if a <= one_quarter:\n",
    "    z += [False] + [True] * s\n",
    "else:\n",
    "    z += [True] + [False] * s"
   ]
  },
  {
   "cell_type": "code",
   "execution_count": 430,
   "metadata": {},
   "outputs": [],
   "source": [
    "# add random junk\n",
    "\n",
    "z += random.choices([False, True], k=100)"
   ]
  },
  {
   "cell_type": "code",
   "execution_count": 431,
   "metadata": {},
   "outputs": [],
   "source": [
    "dec_a = 0\n",
    "dec_b = one_whole\n",
    "dec_z = 0\n",
    "i = 0\n",
    "while i < precision and i < len(z):\n",
    "    dec_z *= 2\n",
    "    if z[i]:\n",
    "        dec_z += 1\n",
    "    i += 1\n",
    "\n",
    "dec_output = []\n",
    "while not dec_output or dec_output[-1] != eof_symbol:\n",
    "    for j in range(len(rs)):\n",
    "        w = dec_b - dec_a\n",
    "        candidate_b = dec_a + w * ds[j] // r_total\n",
    "        candidate_a = dec_a + w * cs[j] // r_total\n",
    "        if candidate_a <= dec_z < candidate_b:\n",
    "            dec_output.append(j)\n",
    "            dec_a = candidate_a\n",
    "            dec_b = candidate_b\n",
    "            break\n",
    "    if dec_output[-1] == eof_symbol:\n",
    "        break\n",
    "    while dec_b < one_half or dec_a > one_half:\n",
    "        if dec_b < one_half:\n",
    "            dec_a *= 2\n",
    "            dec_b *= 2\n",
    "            dec_z *= 2\n",
    "        else:\n",
    "            dec_a = 2 * (dec_a - one_half)\n",
    "            dec_b = 2 * (dec_b - one_half)\n",
    "            dec_z = 2 * (dec_z - one_half)\n",
    "        if i < len(z) and z[i]:\n",
    "            dec_z += 1\n",
    "        i += 1\n",
    "    while dec_a > one_quarter and dec_b < three_quarters:\n",
    "        dec_a = 2 * (dec_a - one_quarter)\n",
    "        dec_b = 2 * (dec_b - one_quarter)\n",
    "        dec_z = 2 * (dec_z - one_quarter)\n",
    "        if i < len(z) and z[i]:\n",
    "            dec_z += 1\n",
    "        i += 1\n",
    "\n",
    "assert example_string == dec_output"
   ]
  },
  {
   "cell_type": "code",
   "execution_count": 432,
   "metadata": {},
   "outputs": [],
   "source": [
    "# print(f\"{dec_a=:08b} {dec_z=:08b} {dec_b=:08b}\")\n",
    "# candidate_z_lower_bound = dec_z\n",
    "# candidate_z_upper_bound = dec_z\n",
    "# k = 0\n",
    "# while k <= precision:\n",
    "#     candidate_z_lower_bound &= ~(1 << k)\n",
    "#     candidate_z_upper_bound |= 1 << k\n",
    "#     print(f\"{k=} {candidate_z_lower_bound=:08b} {candidate_z_upper_bound+1=:08b}\")\n",
    "#     if not (candidate_z_lower_bound >= dec_a and candidate_z_upper_bound + 1 <= dec_b):\n",
    "#         break\n",
    "#     k += 1\n",
    "# print(f\"{i-k=}\")"
   ]
  }
 ],
 "metadata": {
  "kernelspec": {
   "display_name": "textcoder-drrCRsde-py3.10",
   "language": "python",
   "name": "python3"
  },
  "language_info": {
   "codemirror_mode": {
    "name": "ipython",
    "version": 3
   },
   "file_extension": ".py",
   "mimetype": "text/x-python",
   "name": "python",
   "nbconvert_exporter": "python",
   "pygments_lexer": "ipython3",
   "version": "3.10.12"
  }
 },
 "nbformat": 4,
 "nbformat_minor": 2
}
