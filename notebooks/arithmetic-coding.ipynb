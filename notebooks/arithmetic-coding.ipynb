{
 "cells": [
  {
   "cell_type": "code",
   "execution_count": 128,
   "metadata": {},
   "outputs": [],
   "source": [
    "from sympy import Mod, Pow, Rational, S, floor\n",
    "\n",
    "ONE_QUARTER = Rational(1, 4)\n",
    "ONE_HALF = S.Half\n",
    "THREE_QUARTERS = Rational(3, 4)\n",
    "\n",
    "probabilities = [\n",
    "    Rational(5, 100),\n",
    "    Rational(5, 100),\n",
    "    Rational(50, 100),\n",
    "    Rational(40, 100),\n",
    "]\n",
    "eof_symbol = 0\n",
    "example_string = [*[1, 2, 3] * 1, eof_symbol]\n",
    "\n",
    "assert probabilities\n",
    "assert all(probability > 0 for probability in probabilities)\n",
    "assert 0 <= eof_symbol < len(probabilities)\n",
    "assert example_string\n",
    "assert all([0 <= current_char < len(probabilities) for current_char in example_string])\n",
    "# assert all(current_char != eof_symbol for current_char in example_string[:-1])\n",
    "# assert example_string[-1] == eof_symbol"
   ]
  },
  {
   "cell_type": "code",
   "execution_count": 129,
   "metadata": {},
   "outputs": [],
   "source": [
    "c = []\n",
    "for i in range(len(probabilities)):\n",
    "    sum = S.Zero\n",
    "    for j in range(i):\n",
    "        sum += probabilities[j]\n",
    "    c.append(sum)\n",
    "\n",
    "assert c[0] == 0"
   ]
  },
  {
   "cell_type": "code",
   "execution_count": 130,
   "metadata": {},
   "outputs": [],
   "source": [
    "d = []\n",
    "for i in range(len(probabilities)):\n",
    "    d.append(c[i] + probabilities[i])\n",
    "\n",
    "assert d[-1] == 1"
   ]
  },
  {
   "cell_type": "code",
   "execution_count": 131,
   "metadata": {},
   "outputs": [],
   "source": [
    "a = S.Zero\n",
    "b = S.One\n",
    "for current_char in example_string:\n",
    "    w = b - a\n",
    "    b = a + (w * d[current_char])\n",
    "    a = a + (w * c[current_char])"
   ]
  },
  {
   "cell_type": "code",
   "execution_count": 132,
   "metadata": {},
   "outputs": [],
   "source": [
    "scaled_a = a\n",
    "scaled_b = b\n",
    "s = 1\n",
    "z = S.Zero\n",
    "n = 0\n",
    "while scaled_b < ONE_HALF or scaled_a > ONE_HALF:\n",
    "    n += 1\n",
    "    if scaled_b < ONE_HALF:\n",
    "        scaled_a = 2 * scaled_a\n",
    "        scaled_b = 2 * scaled_b\n",
    "    else:\n",
    "        z += 1 / Pow(2, n)\n",
    "        scaled_a = 2 * (scaled_a - ONE_HALF)\n",
    "        scaled_b = 2 * (scaled_b - ONE_HALF)\n",
    "while ONE_QUARTER < scaled_a and scaled_b < THREE_QUARTERS:\n",
    "    scaled_a = 2 * (scaled_a - ONE_QUARTER)\n",
    "    scaled_b = 2 * (scaled_b - ONE_QUARTER)\n",
    "    s += 1\n",
    "n += 1\n",
    "if scaled_a <= ONE_QUARTER and ONE_HALF <= scaled_b:\n",
    "    for _ in range(s):\n",
    "        n += 1\n",
    "        z += 1 / Pow(2, n)\n",
    "else:\n",
    "    z += 1 / Pow(2, n)\n",
    "    n += s\n",
    "n += 1"
   ]
  },
  {
   "cell_type": "code",
   "execution_count": 133,
   "metadata": {},
   "outputs": [],
   "source": [
    "dec_a = S.Zero\n",
    "dec_b = S.One\n",
    "dec_output = []\n",
    "while not dec_output or dec_output[-1] != eof_symbol:\n",
    "    for i in range(len(probabilities)):\n",
    "        w = dec_b - dec_a\n",
    "        candidate_b = dec_a + (w * d[i])\n",
    "        candidate_a = dec_a + (w * c[i])\n",
    "        if candidate_a <= z < candidate_b:\n",
    "            dec_output.append(i)\n",
    "            dec_a = candidate_a\n",
    "            dec_b = candidate_b\n",
    "            break\n",
    "\n",
    "# assert example_string == dec_output"
   ]
  },
  {
   "cell_type": "code",
   "execution_count": 134,
   "metadata": {},
   "outputs": [],
   "source": [
    "m = 0\n",
    "beta = S.Zero\n",
    "while beta < dec_a or (beta + (1 / Pow(2, m))) > dec_b:\n",
    "    next_digit = Mod(floor(z * Pow(2, m)), 2)\n",
    "    beta += next_digit / Pow(2, m)\n",
    "    m += 1\n",
    "\n",
    "#assert m == n"
   ]
  }
 ],
 "metadata": {
  "kernelspec": {
   "display_name": "textcoder-drrCRsde-py3.10",
   "language": "python",
   "name": "python3"
  },
  "language_info": {
   "codemirror_mode": {
    "name": "ipython",
    "version": 3
   },
   "file_extension": ".py",
   "mimetype": "text/x-python",
   "name": "python",
   "nbconvert_exporter": "python",
   "pygments_lexer": "ipython3",
   "version": "3.10.12"
  }
 },
 "nbformat": 4,
 "nbformat_minor": 2
}
